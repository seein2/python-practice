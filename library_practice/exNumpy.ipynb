{
 "cells": [
  {
   "cell_type": "code",
   "execution_count": 2,
   "metadata": {},
   "outputs": [
    {
     "data": {
      "text/plain": [
       "numpy.str_"
      ]
     },
     "execution_count": 2,
     "metadata": {},
     "output_type": "execute_result"
    }
   ],
   "source": [
    "import numpy as np\n",
    "\n",
    "na = np.array([1,2,3,4,5,'d'])\n",
    "\n",
    "type(na[0])"
   ]
  },
  {
   "cell_type": "code",
   "execution_count": 2,
   "metadata": {},
   "outputs": [
    {
     "name": "stdout",
     "output_type": "stream",
     "text": [
      "(4,) (2, 2) (2, 2, 1)\n"
     ]
    }
   ],
   "source": [
    "v = np.array([1,2,3,4]) # vector 1차원 배열\n",
    "m = np.array([[1,2],[3,4]])# matrix 2차원\n",
    "t = np.array([[[1],[2]],[[3],[4]]]) # tensor 3차원\n",
    "print(v.shape, m.shape, t.shape) # (4,) (2, 2) (2, 2, 1)"
   ]
  },
  {
   "cell_type": "code",
   "execution_count": 3,
   "metadata": {},
   "outputs": [
    {
     "data": {
      "text/plain": [
       "dtype('float64')"
      ]
     },
     "execution_count": 3,
     "metadata": {},
     "output_type": "execute_result"
    }
   ],
   "source": [
    "arr_1d = np.array([1,2,3,4])\n",
    "arr_1d.shape\n",
    "arr_1d.ndim\n",
    "\n",
    "arr_2d = np.array([[1,2], [3,4]], dtype='float')\n",
    "arr_2d.dtype"
   ]
  },
  {
   "cell_type": "code",
   "execution_count": 7,
   "metadata": {},
   "outputs": [
    {
     "data": {
      "text/plain": [
       "(4, 1)"
      ]
     },
     "execution_count": 7,
     "metadata": {},
     "output_type": "execute_result"
    }
   ],
   "source": [
    "a=np.array([[1],[2],[3],[4]])\n",
    "a.shape"
   ]
  },
  {
   "cell_type": "code",
   "execution_count": 8,
   "metadata": {},
   "outputs": [
    {
     "name": "stdout",
     "output_type": "stream",
     "text": [
      "[0. 0.]\n",
      "--------------------\n",
      "[[0. 0.]\n",
      " [0. 0.]\n",
      " [0. 0.]]\n",
      "--------------------\n",
      "[[[0. 0.]\n",
      "  [0. 0.]\n",
      "  [0. 0.]]\n",
      "\n",
      " [[0. 0.]\n",
      "  [0. 0.]\n",
      "  [0. 0.]]]\n"
     ]
    }
   ],
   "source": [
    "zer = np.zeros(2)\n",
    "zer2 = np.zeros((3,2))\n",
    "zer3 = np.zeros((2,3,2))\n",
    "print(zer)\n",
    "print('--------------------')\n",
    "print(zer2)\n",
    "print('--------------------')\n",
    "print(zer3)"
   ]
  },
  {
   "cell_type": "code",
   "execution_count": 9,
   "metadata": {},
   "outputs": [
    {
     "name": "stdout",
     "output_type": "stream",
     "text": [
      "[0 1 2 3 4 5 6 7]\n",
      "--------------------\n",
      "[2 3]\n",
      "--------------------\n",
      "[5 7 9]\n"
     ]
    }
   ],
   "source": [
    "arn = np.arange(8)\n",
    "arn2 = np.arange(2,4) # 시작, 끝\n",
    "arn3 = np.arange(5,10,2)\n",
    "print(arn)\n",
    "print('--------------------')\n",
    "print(arn2)\n",
    "print('--------------------')\n",
    "print(arn3)"
   ]
  },
  {
   "cell_type": "code",
   "execution_count": 17,
   "metadata": {},
   "outputs": [
    {
     "data": {
      "text/plain": [
       "array([ 1.,  5.,  9., 13., 17., 21., 25., 29., 33., 37., 41., 45., 49.,\n",
       "       53., 57., 61., 65., 69., 73., 77., 81., 85., 89., 93., 97.])"
      ]
     },
     "execution_count": 17,
     "metadata": {},
     "output_type": "execute_result"
    }
   ],
   "source": [
    "np.linspace(1,97,25)"
   ]
  },
  {
   "cell_type": "code",
   "execution_count": 18,
   "metadata": {},
   "outputs": [
    {
     "name": "stdout",
     "output_type": "stream",
     "text": [
      "[1, 2, 3]\n"
     ]
    },
    {
     "data": {
      "text/plain": [
       "[1, 4]"
      ]
     },
     "execution_count": 18,
     "metadata": {},
     "output_type": "execute_result"
    }
   ],
   "source": [
    "li_1 = [1,2,3]\n",
    "li_2 = [4,5,6]\n",
    "li_3 = [7,8,9]\n",
    "li_0 = [li_1,li_2,li_3]\n",
    "\n",
    "print(li_0[:1][0])\n",
    "\n",
    "li = []\n",
    "for i in range(2):\n",
    "  li.append(li_0[i][0])\n",
    "\n",
    "li"
   ]
  },
  {
   "cell_type": "code",
   "execution_count": 74,
   "metadata": {},
   "outputs": [
    {
     "data": {
      "text/plain": [
       "array([[ 1,  2,  3,  4,  5,  6,  7,  8,  9, 10],\n",
       "       [11, 12, 13, 14, 15, 16, 17, 18, 19, 20]])"
      ]
     },
     "execution_count": 74,
     "metadata": {},
     "output_type": "execute_result"
    }
   ],
   "source": [
    "# 1부터 20까지 숫자를 저장하는 arr\n",
    "arr = np.arange(1,21)\n",
    "\n",
    "# 5보다 큰 수만 남도록\n",
    "arr[arr>5]\n",
    "\n",
    "# 5보다 크면서 홀수인 수만 남도록\n",
    "arr[(arr>5) & (arr%2!=0)]\n",
    "\n",
    "arr.reshape(2,10)"
   ]
  },
  {
   "cell_type": "code",
   "execution_count": 103,
   "metadata": {},
   "outputs": [
    {
     "data": {
      "text/plain": [
       "array([[10,  9],\n",
       "       [ 8,  7]])"
      ]
     },
     "execution_count": 103,
     "metadata": {},
     "output_type": "execute_result"
    }
   ],
   "source": [
    "a=np.array([[1,2], [3,4]])\n",
    "b=np.array([[9,7], [5,3]])\n",
    "a+b"
   ]
  },
  {
   "cell_type": "code",
   "execution_count": 152,
   "metadata": {},
   "outputs": [
    {
     "name": "stdout",
     "output_type": "stream",
     "text": [
      "[[1 2 3]] \n",
      " [[1]\n",
      " [2]\n",
      " [3]\n",
      " [4]]\n",
      "[[2. 3. 4.]\n",
      " [2. 3. 4.]\n",
      " [2. 3. 4.]\n",
      " [2. 3. 4.]]\n",
      "[[2. 2. 2.]\n",
      " [3. 3. 3.]\n",
      " [4. 4. 4.]\n",
      " [5. 5. 5.]]\n"
     ]
    }
   ],
   "source": [
    "\n",
    "d=np.array(((1,2,3),))\n",
    "e=np.array(((1,2,3,4),)).reshape(4,1)\n",
    "print(d, '\\n',e)\n",
    "print(np.ones((4,3)) + d)\n",
    "print(np.ones((4,3)) + e)"
   ]
  },
  {
   "cell_type": "code",
   "execution_count": 197,
   "metadata": {},
   "outputs": [
    {
     "data": {
      "text/plain": [
       "array([[1, 2, 3, 1, 2, 4],\n",
       "       [2, 3, 4, 3, 2, 4]])"
      ]
     },
     "execution_count": 197,
     "metadata": {},
     "output_type": "execute_result"
    }
   ],
   "source": [
    "import numpy as np\n",
    "\n",
    "arr = np.array([[1,2,3], [2,3,4]])\n",
    "arr2 = np.array([[1,2,4],[3,2,4]])\n",
    "\n",
    "np.concatenate((arr, arr2), axis=1)"
   ]
  },
  {
   "cell_type": "code",
   "execution_count": 5,
   "metadata": {},
   "outputs": [
    {
     "name": "stdout",
     "output_type": "stream",
     "text": [
      "[[9 5 2 3]\n",
      " [7 8 9 4]]\n",
      "[[7 5 2 3]\n",
      " [9 8 9 4]]\n",
      "[[2 3 5 9]\n",
      " [4 7 8 9]]\n"
     ]
    }
   ],
   "source": [
    "arr = np.array([9,5,2,3,7,8,9,4]).reshape(2,4)\n",
    "\n",
    "print(arr)\n",
    "arr_c = np.sort(arr, axis=0)\n",
    "arr_r = np.sort(arr, axis=1)\n",
    "\n",
    "print(arr_c) # [[1 5 2 3], [7 8 9 4]]\n",
    "print(arr_r) # [[1 2 3 5], [4 7 8 9]]"
   ]
  },
  {
   "cell_type": "code",
   "execution_count": null,
   "metadata": {},
   "outputs": [],
   "source": []
  }
 ],
 "metadata": {
  "kernelspec": {
   "display_name": "base",
   "language": "python",
   "name": "python3"
  },
  "language_info": {
   "codemirror_mode": {
    "name": "ipython",
    "version": 3
   },
   "file_extension": ".py",
   "mimetype": "text/x-python",
   "name": "python",
   "nbconvert_exporter": "python",
   "pygments_lexer": "ipython3",
   "version": "3.12.1"
  }
 },
 "nbformat": 4,
 "nbformat_minor": 2
}

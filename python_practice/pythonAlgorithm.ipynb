{
 "cells": [
  {
   "cell_type": "code",
   "execution_count": 7,
   "metadata": {},
   "outputs": [
    {
     "data": {
      "text/plain": [
       "array([1, 2, 3, 4, 5])"
      ]
     },
     "execution_count": 7,
     "metadata": {},
     "output_type": "execute_result"
    }
   ],
   "source": [
    "import numpy as np\n",
    "\n",
    "li=[1,2,3,4,5]\n",
    "a = np.array(li)\n",
    "a"
   ]
  },
  {
   "cell_type": "code",
   "execution_count": 9,
   "metadata": {},
   "outputs": [
    {
     "name": "stdout",
     "output_type": "stream",
     "text": [
      "제일 큰 값 : 78\n",
      "두번째로 큰 값 : 65\n"
     ]
    }
   ],
   "source": [
    "def find_max(arr):\n",
    "    max1=arr[0]\n",
    "    max2=arr[1]\n",
    "    c=0\n",
    "\n",
    "    if max1 < max2:\n",
    "        c=max2\n",
    "        max2=max1\n",
    "        max1=c\n",
    "\n",
    "    for i in range(2, len(arr)):\n",
    "        if max1 < arr[i]:\n",
    "            max2=max1\n",
    "            max1=arr[i]\n",
    "        elif max2 < arr[i]:\n",
    "            max2=arr[i]\n",
    "    \n",
    "    print(f'제일 큰 값 : {max1}\\n두번째로 큰 값 : {max2}')\n",
    "\n",
    "find_max([9,78,5,3,4,5,65,56,5])\n",
    "\n",
    "    "
   ]
  },
  {
   "cell_type": "code",
   "execution_count": 18,
   "metadata": {},
   "outputs": [
    {
     "name": "stdout",
     "output_type": "stream",
     "text": [
      "같음\n"
     ]
    }
   ],
   "source": [
    "word = '12344321'\n",
    "\n",
    "print('같음') if word == word[::-1] else print('다름')"
   ]
  },
  {
   "cell_type": "code",
   "execution_count": 26,
   "metadata": {},
   "outputs": [
    {
     "data": {
      "text/plain": [
       "[0, 0, 0, 0, 0, 0, 0, 0, 1, 1, 1, 1, 1, 1, 1, 1, 1]"
      ]
     },
     "execution_count": 26,
     "metadata": {},
     "output_type": "execute_result"
    }
   ],
   "source": [
    "def bin_arr_sort(arr):\n",
    "    sl=[]\n",
    "    zero_count = arr.count(0)\n",
    "    for i in range(zero_count):\n",
    "        sl.append(0)\n",
    "    for i in range(len(arr)-zero_count):\n",
    "        sl.append(1)\n",
    "    return sl\n",
    "\n",
    "bin_arr_sort([1,0,1,0,0,0,1,1,1,0,1,0,1,1,0,1,0])"
   ]
  },
  {
   "cell_type": "code",
   "execution_count": 28,
   "metadata": {},
   "outputs": [
    {
     "data": {
      "text/plain": [
       "[0, 0, 0, 1, 1, 1, 1]"
      ]
     },
     "execution_count": 28,
     "metadata": {},
     "output_type": "execute_result"
    }
   ],
   "source": [
    "def bin_arr(arr):\n",
    "    left_p = 0\n",
    "    right_p = len(arr) -1\n",
    "\n",
    "    while left_p < right_p:\n",
    "        if arr[left_p] == 0:\n",
    "            left_p += 1\n",
    "        \n",
    "        if right_p == 1:\n",
    "            right_p -= 1\n",
    "\n",
    "        arr[left_p], arr[right_p] = 0, 1\n",
    "        left_p += 1\n",
    "        right_p -= 1\n",
    "    return arr\n",
    "\n",
    "bin_arr([1,1,1,1,0,0,0])"
   ]
  },
  {
   "cell_type": "code",
   "execution_count": 31,
   "metadata": {},
   "outputs": [
    {
     "data": {
      "text/plain": [
       "[1, 3]"
      ]
     },
     "execution_count": 31,
     "metadata": {},
     "output_type": "execute_result"
    }
   ],
   "source": [
    "def find_sub_arr(arr, s):\n",
    "    for i in range(len(arr)):\n",
    "        total=0\n",
    "        for j in range(i, len(arr)):\n",
    "            total += arr[j]\n",
    "            if total == s:\n",
    "                return [i, j]\n",
    "           \n",
    "    return [-1]\n",
    "    \n",
    "find_sub_arr([1,2,3,7,5], 12)"
   ]
  },
  {
   "cell_type": "code",
   "execution_count": null,
   "metadata": {},
   "outputs": [],
   "source": [
    "def find_subarray_with_sum(arr, s):\n",
    "    n = len(arr)\n",
    "    for i in range(n):\n",
    "        current_sum = 0\n",
    "        for j in range(i, n):\n",
    "            current_sum += arr[j]\n",
    "            if current_sum == s:\n",
    "                return [i + 1, j + 1]  # 인덱스 기준이 1이므로 +1을 해줌\n",
    "    return -1"
   ]
  },
  {
   "cell_type": "code",
   "execution_count": 109,
   "metadata": {},
   "outputs": [],
   "source": [
    "# 노드 클래스\n",
    "class Node:\n",
    "    def __init__(self, data):\n",
    "        self.data = data\n",
    "        self.next = None"
   ]
  },
  {
   "cell_type": "code",
   "execution_count": 54,
   "metadata": {},
   "outputs": [],
   "source": [
    "a = Node('a') # 첫번째 노드 'a' 생성\n",
    "a.data # a\n",
    "a.next = Node('b') # 두번째 노드 'b' 생성\n",
    "a.next.data # b\n",
    "a.next.next = Node('c') # 두번째 노드 'c' 생성"
   ]
  },
  {
   "cell_type": "code",
   "execution_count": 68,
   "metadata": {},
   "outputs": [
    {
     "name": "stdout",
     "output_type": "stream",
     "text": [
      "a b c "
     ]
    }
   ],
   "source": [
    "head_node = a\n",
    "while head_node: # head_node가 False일 때 멈춤 (None)\n",
    "    print(head_node.data, end = ' ')\n",
    "    head_node = head_node.next"
   ]
  },
  {
   "cell_type": "code",
   "execution_count": 206,
   "metadata": {},
   "outputs": [
    {
     "name": "stdout",
     "output_type": "stream",
     "text": [
      "현재 연결리스트의 길이는 0 입니다.\n",
      "---------------------------------\n",
      "1\n",
      "None\n",
      "---------------------------------\n",
      "2 3 4 5 6 7 8 9 \n",
      "---------------------------------\n",
      "1\n",
      "8\n",
      "---------------------------------\n",
      "마지막 노드를 pop 한 결과 길이는 7 반환값은 9\n",
      "---------------------------------\n",
      "2를 remove 한 결과 길이는 6\n",
      "---------------------------------\n",
      "head=2 -> 100 -> 4 -> 5 -> 6 -> 7 -> 8\n"
     ]
    }
   ],
   "source": [
    "class Node:\n",
    "    def __init__(self, data):\n",
    "        self.data = data\n",
    "        self.next = None\n",
    "        \n",
    "class LinkedList:\n",
    "    def __init__(self): # LinkedList의 기본 속성\n",
    "        self.head = None # head노드의 정보\n",
    "        self.length = 0 # Linkedlist의 길이\n",
    "\n",
    "    # LinkedList의 길이를 알려주는 메소드\n",
    "    def __len__(self): \n",
    "        return self.length\n",
    "    \n",
    "    def __str__(self):\n",
    "        if self.head is None:\n",
    "            return 'Linked List Is Empty'\n",
    "        res = 'head='\n",
    "        nodes=[]\n",
    "        node = self.head\n",
    "\n",
    "        while node is not None:\n",
    "            nodes.append(str(node.data))\n",
    "            node = node.next\n",
    "\n",
    "        return res+' -> '.join(nodes)\n",
    "    \n",
    "    def __contains__(self, target):\n",
    "        if self.head is None:\n",
    "            return False\n",
    "        node = self.head\n",
    "\n",
    "        while node is not None:\n",
    "            if node.data == target:\n",
    "                return True\n",
    "            node = node.next\n",
    "        return False\n",
    "    \n",
    "    # 맨 왼쪽에 노드 추가\n",
    "    def appendleft(self, data):\n",
    "        if self.head is None: # head node가 없는 상태\n",
    "            self.head = Node(data) # head node에 새로운 노드 생성\n",
    "        else:\n",
    "            node = Node(data) # 새로운 노드를 생성하고\n",
    "            node.next = self.head # 새로 만든 노드의 next를 기존의 head node로 설정하고\n",
    "            self.head = node # 새로 만든 노드를 head node로 변경\n",
    "        self.length += 1\n",
    "\n",
    "    # 맨 오른쪽에 노드 추가\n",
    "    def append(self, data):\n",
    "        if self.head is None:\n",
    "            self.head = Node(data)\n",
    "        else:\n",
    "            node = self.head\n",
    "            while node.next is not None: # 모든 노드를 탐색하면서 next가 None이 될때까지\n",
    "                node = node.next\n",
    "            node.next = Node(data) # 새로운 노드를 만들고, 마지막 노드의 next로 변경\n",
    "        self.length += 1\n",
    "\n",
    "    # 맨 왼쪽 노드 pop\n",
    "    def popleft(self):\n",
    "        if self.head is None:\n",
    "            return None\n",
    "        node = self.head # 임시 노드\n",
    "        self.head = self.head.next # head node의 다음 노드를 head node로 변경\n",
    "        self.length -= 1\n",
    "        return node.data\n",
    "    \n",
    "    # 맨 오른쪽 노드 pop\n",
    "    def pop(self):\n",
    "        if self.head is None:\n",
    "            return None\n",
    "        else:\n",
    "            node = self.head\n",
    "            while node.next is not None:\n",
    "                prev = node\n",
    "                node = node.next\n",
    "            \n",
    "            if node == self.head: # 노드가 하나밖에 없으면\n",
    "                self.head = None # head node는 None\n",
    "            else:\n",
    "                prev.next = None\n",
    "        self.length -= 1\n",
    "        return node\n",
    "    \n",
    "    def remove(self, data):\n",
    "        node = self.head\n",
    "        while node is not None and node.data != data:\n",
    "            prev = node\n",
    "            node = node.next\n",
    "        if node is None: # 연결 리스트가 비어있거나 target이 없는 경우\n",
    "            return False\n",
    "        \n",
    "        if node == self.head:\n",
    "            self.head = self.head.next\n",
    "        else:\n",
    "            prev.next = node.next\n",
    "        \n",
    "        self.length -= 1\n",
    "        return True\n",
    "\n",
    "    def insert(self, i, data):\n",
    "        if i<=0: # 인덱스가 음수\n",
    "            self.appendleft(data)\n",
    "        elif i >= self.length: # 인덱스가 리스트 크기보다 큰 경우\n",
    "            self.append(data)\n",
    "        else:\n",
    "            node = self.head\n",
    "            for _ in range(i-1): # 지정한 인덱스(i)만큼 현재 node를 이동\n",
    "                node = node.next\n",
    "            new_node = Node(data)\n",
    "            new_node.next = node.next # 생성된 노드의 next가 현재 노드의 next를 가르킴\n",
    "            node.next = new_node # 현재 노드의 next는 새로운 노드가 되도록 만듦\n",
    "            self.length += 1\n",
    "\n",
    "    def reverse(self):\n",
    "        if self.length < 2:\n",
    "            return\n",
    "        prev = None\n",
    "        ahead = self.head.next # 연결 리스트의 next의 값이 바뀌어도 연결이 끊어지지 않음\n",
    "        while ahead:\n",
    "            self.head.next = prev # 현재 head를 이전 head로 변환\n",
    "            prev = self.head # 현재 prev를 현재 head로 업데이트\n",
    "            self.head = ahead # 현재 head를 ahead로 업데이트\n",
    "            ahead = ahead.next # 현재 ahead를 다음 ahead로 업데이트\n",
    "        self.head.next = prev\n",
    "        \n",
    "if __name__ == '__main__':\n",
    "    linked_list = LinkedList()\n",
    "    print(f'현재 연결리스트의 길이는 {len(linked_list)} 입니다.') # 0\n",
    "    print('---------------------------------')\n",
    "    linked_list.append(1) # 1 추가\n",
    "    print(linked_list.head.data) # 1\n",
    "    print(linked_list.head.next) # None\n",
    "    print('---------------------------------')\n",
    "    for i in range(2,10):\n",
    "        linked_list.append(i)\n",
    "        print(len(linked_list), end=' ')\n",
    "    print('\\n---------------------------------')\n",
    "    print(linked_list.popleft())\n",
    "    print(len(linked_list))\n",
    "    print('---------------------------------')\n",
    "    p = linked_list.pop()\n",
    "    print(f'마지막 노드를 pop 한 결과 길이는 {len(linked_list)} 반환값은 {p.data}')\n",
    "    print('---------------------------------')\n",
    "    linked_list.remove(3)\n",
    "    print(f'2를 remove 한 결과 길이는 {len(linked_list)}')\n",
    "    print('---------------------------------')\n",
    "    linked_list.insert(1, 100)\n",
    "    print(linked_list)"
   ]
  },
  {
   "cell_type": "markdown",
   "metadata": {},
   "source": [
    "# 스택"
   ]
  },
  {
   "cell_type": "code",
   "execution_count": 337,
   "metadata": {},
   "outputs": [
    {
     "name": "stdout",
     "output_type": "stream",
     "text": [
      "push : A, top : A\n",
      "push : B, top : B\n",
      "push : C, top : C\n",
      "---------------------------------\n",
      "pop : C, top : B\n",
      "pop : B, top : A\n",
      "pop : A, top : None\n",
      "---------------------------------\n",
      "stack is empty? True\n"
     ]
    }
   ],
   "source": [
    "class Stack:\n",
    "    def __init__(self):\n",
    "        self.top = None\n",
    "\n",
    "    def push(self, data):\n",
    "        if self.top is None:\n",
    "            self.top = Node(data)\n",
    "        else:\n",
    "            node = Node(data)\n",
    "            node.next = self.top\n",
    "            self.top = node\n",
    "\n",
    "    def pop(self):\n",
    "        if self.top is None:\n",
    "            return None\n",
    "        node = self.top\n",
    "        self.top = self.top.next\n",
    "        return node.data\n",
    "\n",
    "    def peek(self):\n",
    "        if self.top is None:\n",
    "            return None\n",
    "        return self.top.data\n",
    "    \n",
    "    def is_empty(self):\n",
    "        return self.top is None\n",
    "    \n",
    "stack = Stack()\n",
    "for i in range(65, 68):\n",
    "    stack.push(chr(i)) # a, b, c\n",
    "    print(f'push : {chr(i)}, top : {stack.peek()}')\n",
    "print('---------------------------------')\n",
    "for _ in range(3):\n",
    "    print(f'pop : {stack.pop()}, top : {stack.peek()}')\n",
    "print('---------------------------------')\n",
    "print(f'stack is empty? {stack.is_empty()}')"
   ]
  },
  {
   "cell_type": "code",
   "execution_count": 338,
   "metadata": {},
   "outputs": [
    {
     "name": "stdout",
     "output_type": "stream",
     "text": [
      "e\n",
      "n\n",
      "e\n",
      "f\n",
      "e\n",
      "efene"
     ]
    }
   ],
   "source": [
    "def revers_string(word):\n",
    "    result = ''\n",
    "    stack = Stack()\n",
    "    for i in word:\n",
    "        stack.push(i)\n",
    "        print(stack.peek())\n",
    "    for i in word:\n",
    "        print(stack.pop(),end ='')\n",
    "    # while not stack.is_empty():\n",
    "    #     result += stack.pop()\n",
    "    # return result\n",
    "revers_string('enefe')"
   ]
  },
  {
   "cell_type": "code",
   "execution_count": 339,
   "metadata": {},
   "outputs": [
    {
     "data": {
      "text/plain": [
       "True"
      ]
     },
     "execution_count": 339,
     "metadata": {},
     "output_type": "execute_result"
    }
   ],
   "source": [
    "def check_bracket(str_bracket):\n",
    "    s = Stack()\n",
    "    for b in str_bracket:\n",
    "        if b == '(':\n",
    "            s.push(b)\n",
    "        elif b == ')':\n",
    "            if not s.pop(): # top이 비어있음\n",
    "                return False\n",
    "\n",
    "    return True if s.is_empty() else False\n",
    "\n",
    "check_bracket('((a+b) - (x+y) * k) / j')"
   ]
  },
  {
   "cell_type": "code",
   "execution_count": 341,
   "metadata": {},
   "outputs": [
    {
     "data": {
      "text/plain": [
       "True"
      ]
     },
     "execution_count": 341,
     "metadata": {},
     "output_type": "execute_result"
    }
   ],
   "source": [
    "def check_bracket2(expression):\n",
    "    brackets = { ')' : '(', '}' : '{', ']' : '[' }\n",
    "\n",
    "    s = Stack()\n",
    "    for exp in expression:\n",
    "        if exp in brackets.values():\n",
    "            s.push(exp)\n",
    "        elif exp in brackets:\n",
    "            pop_brackets = s.pop()\n",
    "            if not pop_brackets or pop_brackets != brackets[exp]: # 여는 괄호 없이 닫는 괄호가 먼저 나온 경우\n",
    "                return False\n",
    "            \n",
    "    return True if s.is_empty() else False\n",
    "check_bracket2('[{a * (b + c)} - d]/ e')"
   ]
  },
  {
   "cell_type": "code",
   "execution_count": 342,
   "metadata": {},
   "outputs": [
    {
     "name": "stdout",
     "output_type": "stream",
     "text": [
      "1\n",
      "0\n"
     ]
    }
   ],
   "source": [
    "def solution(string):\n",
    "    s = Stack()\n",
    "    for st in string:\n",
    "        if not s.is_empty() and (s.peek() == st):\n",
    "            s.pop()\n",
    "        else:\n",
    "            s.push(st)\n",
    "\n",
    "    return 1 if s.is_empty() else 0\n",
    "\n",
    "print(solution('baabaa'))\n",
    "print(solution('cdcd'))"
   ]
  },
  {
   "cell_type": "code",
   "execution_count": 468,
   "metadata": {},
   "outputs": [
    {
     "ename": "TypeError",
     "evalue": "'<' not supported between instances of 'int' and 'NoneType'",
     "output_type": "error",
     "traceback": [
      "\u001b[0;31m---------------------------------------------------------------------------\u001b[0m",
      "\u001b[0;31mTypeError\u001b[0m                                 Traceback (most recent call last)",
      "Cell \u001b[0;32mIn[468], line 23\u001b[0m\n\u001b[1;32m     20\u001b[0m     \u001b[38;5;28;01mwhile\u001b[39;00m \u001b[38;5;129;01mnot\u001b[39;00m result\u001b[38;5;241m.\u001b[39mis_empty():\n\u001b[1;32m     21\u001b[0m         \u001b[38;5;28mprint\u001b[39m(result\u001b[38;5;241m.\u001b[39mpop())\n\u001b[0;32m---> 23\u001b[0m \u001b[43mfind_nge\u001b[49m\u001b[43m(\u001b[49m\u001b[43m[\u001b[49m\u001b[38;5;241;43m2\u001b[39;49m\u001b[43m,\u001b[49m\u001b[38;5;241;43m8\u001b[39;49m\u001b[43m,\u001b[49m\u001b[38;5;241;43m9\u001b[39;49m\u001b[43m,\u001b[49m\u001b[38;5;241;43m8\u001b[39;49m\u001b[43m,\u001b[49m\u001b[38;5;241;43m5\u001b[39;49m\u001b[43m]\u001b[49m\u001b[43m)\u001b[49m\n",
      "Cell \u001b[0;32mIn[468], line 13\u001b[0m, in \u001b[0;36mfind_nge\u001b[0;34m(int_list)\u001b[0m\n\u001b[1;32m     11\u001b[0m \u001b[38;5;28;01melse\u001b[39;00m:\n\u001b[1;32m     12\u001b[0m     \u001b[38;5;28;01mwhile\u001b[39;00m s:\n\u001b[0;32m---> 13\u001b[0m         \u001b[38;5;28;01mif\u001b[39;00m \u001b[43mint_list\u001b[49m\u001b[43m[\u001b[49m\u001b[43mi\u001b[49m\u001b[43m]\u001b[49m\u001b[43m \u001b[49m\u001b[38;5;241;43m<\u001b[39;49m\u001b[43m \u001b[49m\u001b[43ms\u001b[49m\u001b[38;5;241;43m.\u001b[39;49m\u001b[43mpeek\u001b[49m\u001b[43m(\u001b[49m\u001b[43m)\u001b[49m:\n\u001b[1;32m     14\u001b[0m             result\u001b[38;5;241m.\u001b[39mpush([int_list[i], s\u001b[38;5;241m.\u001b[39mpeek()])\n\u001b[1;32m     15\u001b[0m             s\u001b[38;5;241m.\u001b[39mpush(int_list[i])\n",
      "\u001b[0;31mTypeError\u001b[0m: '<' not supported between instances of 'int' and 'NoneType'"
     ]
    }
   ],
   "source": [
    "def find_nge(int_list):\n",
    "    s = Stack() # 값을 검사할 때 쓰는 스택\n",
    "    s.push(-1) # top을 -1로 설정\n",
    "    result = Stack() # 결과를 출력할 때 쓰는 스택 (스택이 아니어도 됨)\n",
    "    n = len(int_list) # 리스트의 길이 (반복문 사용할때)\n",
    "\n",
    "    for i in range(n-1, -1, -1):\n",
    "        if i == n-1: # 맨 마지막 인덱스\n",
    "            result.push([int_list[i], s.peek()])\n",
    "            s.push(int_list[i])\n",
    "        else:\n",
    "            while s:\n",
    "                if int_list[i] < s.peek():\n",
    "                    result.push([int_list[i], s.peek()])\n",
    "                    s.push(int_list[i])\n",
    "                    break\n",
    "                else: \n",
    "                    s.pop()\n",
    "    \n",
    "    while not result.is_empty():\n",
    "        print(result.pop())\n",
    "        \n",
    "find_nge([2,8,9,8,5])"
   ]
  },
  {
   "cell_type": "markdown",
   "metadata": {},
   "source": [
    "# 큐"
   ]
  },
  {
   "cell_type": "code",
   "execution_count": 485,
   "metadata": {},
   "outputs": [
    {
     "name": "stdout",
     "output_type": "stream",
     "text": [
      "Enqueue A. rear : A, front : A\n",
      "Enqueue B. rear : B, front : A\n",
      "Enqueue C. rear : C, front : A\n",
      "Enqueue D. rear : D, front : A\n",
      "Enqueue E. rear : E, front : A\n",
      "---------------------------------\n",
      "Dequeue A. rear : E, front : B\n",
      "Dequeue B. rear : E, front : C\n",
      "Dequeue C. rear : E, front : D\n",
      "Dequeue D. rear : E, front : E\n",
      "Dequeue E. None\n"
     ]
    }
   ],
   "source": [
    "class Node:\n",
    "    def __init__(self, data):\n",
    "        self.data = data\n",
    "        self.next = None\n",
    "\n",
    "class Queue:\n",
    "    def __init__(self):\n",
    "        self.front = None # 출구\n",
    "        self.rear = None # 입구\n",
    "\n",
    "    def enqueue(self, data):\n",
    "        if self.front is None:\n",
    "            self.front = self.rear = Node(data)\n",
    "        else:\n",
    "            node = Node(data)\n",
    "            self.rear.next = node\n",
    "            self.rear = node\n",
    "    def dequeue(self):\n",
    "        if self.front is None:\n",
    "            return None\n",
    "        node = self.front\n",
    "        if self.front == self.rear:\n",
    "            self.front = self.rear = None\n",
    "        else:\n",
    "            self.front = self.front.next\n",
    "        return node.data\n",
    "    def is_empty(self):\n",
    "        return self.front is None\n",
    "\n",
    "q = Queue()\n",
    "for i in range(65,70):\n",
    "    q.enqueue(chr(i))\n",
    "    print(f'Enqueue {chr(i)}. rear : {q.rear.data}, front : {q.front.data}')\n",
    "print('---------------------------------')\n",
    "for i in range(65, 70):\n",
    "    try:\n",
    "        q.dequeue()\n",
    "        print(f'Dequeue {chr(i)}. rear : {q.rear.data}, front : {q.front.data}')\n",
    "    except:\n",
    "        print(f'Dequeue {chr(i)}. None')\n",
    "    "
   ]
  },
  {
   "cell_type": "code",
   "execution_count": 486,
   "metadata": {},
   "outputs": [
    {
     "ename": "AttributeError",
     "evalue": "'NoneType' object has no attribute 'data'",
     "output_type": "error",
     "traceback": [
      "\u001b[0;31m---------------------------------------------------------------------------\u001b[0m",
      "\u001b[0;31mAttributeError\u001b[0m                            Traceback (most recent call last)",
      "Cell \u001b[0;32mIn[486], line 10\u001b[0m\n\u001b[1;32m      7\u001b[0m         q\u001b[38;5;241m.\u001b[39menqueue(s\u001b[38;5;241m.\u001b[39mpop())\n\u001b[1;32m      9\u001b[0m reverse_queue(q)\n\u001b[0;32m---> 10\u001b[0m \u001b[38;5;28mprint\u001b[39m(\u001b[38;5;124mf\u001b[39m\u001b[38;5;124m'\u001b[39m\u001b[38;5;124mReverse. rear : \u001b[39m\u001b[38;5;132;01m{\u001b[39;00m\u001b[43mq\u001b[49m\u001b[38;5;241;43m.\u001b[39;49m\u001b[43mrear\u001b[49m\u001b[38;5;241;43m.\u001b[39;49m\u001b[43mdata\u001b[49m\u001b[38;5;132;01m}\u001b[39;00m\u001b[38;5;124m, front : \u001b[39m\u001b[38;5;132;01m{\u001b[39;00mq\u001b[38;5;241m.\u001b[39mfront\u001b[38;5;241m.\u001b[39mdata\u001b[38;5;132;01m}\u001b[39;00m\u001b[38;5;124m'\u001b[39m)\n",
      "\u001b[0;31mAttributeError\u001b[0m: 'NoneType' object has no attribute 'data'"
     ]
    }
   ],
   "source": [
    "# 스택을 사용해서 reverse_quere 만들기\n",
    "def reverse_queue(q):\n",
    "    s = Stack()\n",
    "    while not q.is_empty():\n",
    "        s.push(q.dequeue())\n",
    "    while not s.is_empty():\n",
    "        q.enqueue(s.pop())\n",
    "\n",
    "reverse_queue(q)\n",
    "print(f'Reverse. rear : {q.rear.data}, front : {q.front.data}')"
   ]
  },
  {
   "cell_type": "code",
   "execution_count": null,
   "metadata": {},
   "outputs": [
    {
     "data": {
      "text/plain": [
       "[3, 6, 2, 7, 5, 1, 4]"
      ]
     },
     "execution_count": 451,
     "metadata": {},
     "output_type": "execute_result"
    }
   ],
   "source": [
    "# 요세푸스 (리스트)\n",
    "def josephus(n, k):\n",
    "    result = []\n",
    "    line = [1 for _ in range(n)]\n",
    "    i = -1\n",
    "\n",
    "    for _ in range(n-1):\n",
    "        cnt = 0\n",
    "        while cnt < k: # n만큼 인덱스 순환\n",
    "            i= (i + 1) % n\n",
    "            if line[i]: # line[i]가 1이면\n",
    "                cnt += 1\n",
    "        line[i] = 0\n",
    "        result.append(i+1)\n",
    "    result.append(line.index(1) + 1) # line에 값이 1인 원소의 index값 추가\n",
    "    return result\n",
    "\n",
    "josephus(7,3)"
   ]
  },
  {
   "cell_type": "code",
   "execution_count": null,
   "metadata": {},
   "outputs": [
    {
     "data": {
      "text/plain": [
       "[3, 6, 2, 7, 5, 1, 4]"
      ]
     },
     "execution_count": 457,
     "metadata": {},
     "output_type": "execute_result"
    }
   ],
   "source": [
    "# 요세푸스 (큐)\n",
    "def josephus_q(n, k):\n",
    "    result = []\n",
    "    q = Queue()\n",
    "    for i in range(1, n+1): # 1~n 까지 정수 배열을 q에 담기\n",
    "        q.enqueue(i)\n",
    "    while q.front.next:\n",
    "        for _ in range(k-1):\n",
    "            q.enqueue(q.dequeue()) # dequeue한 값을 다시 enqueue\n",
    "        result.append(q.dequeue()) # dequeue한 값을 다시 result에 저장\n",
    "    result.append(q.dequeue()) # 마지막원소 저장\n",
    "    return result\n",
    "\n",
    "josephus_q(7,3)"
   ]
  },
  {
   "cell_type": "code",
   "execution_count": 462,
   "metadata": {},
   "outputs": [
    {
     "name": "stdout",
     "output_type": "stream",
     "text": [
      "101\n"
     ]
    }
   ],
   "source": [
    "def generate_binary(n):\n",
    "    q = Queue()\n",
    "    q.enqueue('1')\n",
    "    for _ in range(n):\n",
    "        i = q.dequeue()\n",
    "        q.enqueue(i + '0')\n",
    "        q.enqueue(i + '1')\n",
    "    print(i)\n",
    "generate_binary(5)"
   ]
  },
  {
   "cell_type": "markdown",
   "metadata": {},
   "source": [
    "# 해시 테이블"
   ]
  },
  {
   "cell_type": "code",
   "execution_count": 476,
   "metadata": {},
   "outputs": [
    {
     "name": "stdout",
     "output_type": "stream",
     "text": [
      "해시 테이블의 상태\n",
      "0 [('Japan', 125)]\n",
      "1 [('France', 68)]\n",
      "2 [('England', 67)]\n",
      "3 [('Korea', 51), ('Canada', 39)]\n",
      "4 []\n"
     ]
    }
   ],
   "source": [
    "class HashTable():\n",
    "    def __init__(self, length = 5):\n",
    "        self.size = length\n",
    "        self.table = [[] for _ in range(self.size)]\n",
    "\n",
    "    def _hash(self, key): # hash값 만들기\n",
    "        res = sum([ord(s) for s in key]) # 'ABC' => [65, 66, 67]\n",
    "        return res % self.size\n",
    "    \n",
    "    def set(self, key, value):\n",
    "        index = self._hash(key)\n",
    "        self.table[index].append((key, value))\n",
    "\n",
    "    def get(self, key):\n",
    "        index = self._hash(key)\n",
    "        value = self.table[index]\n",
    "        print(index)\n",
    "        if not value:\n",
    "            return False\n",
    "        for v in value:\n",
    "            if v[0] == key:\n",
    "                return v[1]\n",
    "        return None\n",
    "    \n",
    "cap = HashTable()\n",
    "country = ['Korea', 'Canada', 'Japan', 'England', 'France']\n",
    "people = [51, 39, 125, 67, 68]\n",
    "\n",
    "for c, p in zip(country, people):\n",
    "    cap.set(c, p)\n",
    "print('해시 테이블의 상태')\n",
    "for i, v in enumerate(cap.table):\n",
    "    print(i, v)\n"
   ]
  },
  {
   "cell_type": "code",
   "execution_count": 477,
   "metadata": {},
   "outputs": [
    {
     "name": "stdout",
     "output_type": "stream",
     "text": [
      "3\n",
      "한국의 인구수는 51m\n"
     ]
    }
   ],
   "source": [
    "print(f'한국의 인구수는 {cap.get('Korea')}m')"
   ]
  },
  {
   "cell_type": "code",
   "execution_count": 484,
   "metadata": {},
   "outputs": [
    {
     "name": "stdout",
     "output_type": "stream",
     "text": [
      "0\n",
      "2\n",
      "-1\n"
     ]
    }
   ],
   "source": [
    "chars = ['leetcode', 'loveleetcode', 'aabb']\n",
    "\n",
    "def first_uni(strings):\n",
    "    n = len(strings)\n",
    "    check = [0] * n\n",
    "    for i, ch in enumerate(strings):\n",
    "        if check[i]: # 값이 0이 아니면 유일한 값이 아님.\n",
    "            continue\n",
    "        check[i] = 1 # 처음 나온 문자는 1\n",
    "        is_unique = True\n",
    "\n",
    "        for j in range(i+1, n): # 현재 문자 뒤에 나오는 모든 단어와 비교\n",
    "            if ch== strings[j]:\n",
    "                check[j] = 1 # 현재 문자와 같은 문자가 발견되면 1\n",
    "                is_unique = False\n",
    "        if is_unique:\n",
    "            return i\n",
    "    return -1\n",
    "\n",
    "for i in chars:\n",
    "    print(first_uni(i))"
   ]
  },
  {
   "cell_type": "code",
   "execution_count": 494,
   "metadata": {},
   "outputs": [
    {
     "data": {
      "text/plain": [
       "1"
      ]
     },
     "execution_count": 494,
     "metadata": {},
     "output_type": "execute_result"
    }
   ],
   "source": [
    "def word_relay(n, word):\n",
    "    used_words = set() # 단어 집합\n",
    "    last_char = word[0][0] # 단어의 마지막 문자\n",
    "\n",
    "    for i, word in enumerate(word):\n",
    "        if(word[0] != last_char) or (word in used_words):\n",
    "            return [(i%n) + 1, (i//n) + 1]\n",
    "        used_words.add(word)\n",
    "        last_char = word[-1]\n",
    "    return [0,0]"
   ]
  },
  {
   "cell_type": "markdown",
   "metadata": {},
   "source": [
    "# 트리"
   ]
  },
  {
   "cell_type": "code",
   "execution_count": 524,
   "metadata": {},
   "outputs": [],
   "source": [
    "class Node:\n",
    "    def __init__(self, data):\n",
    "        self.data = data\n",
    "        self.left = None\n",
    "        self.right = None\n",
    "\n",
    "class BinaryTree:\n",
    "    def __init__(self, root):\n",
    "        self.root = Node(root)\n"
   ]
  },
  {
   "cell_type": "code",
   "execution_count": 529,
   "metadata": {},
   "outputs": [
    {
     "name": "stdout",
     "output_type": "stream",
     "text": [
      "a b d g e c f None\n",
      "['a', 'b', 'd', 'g', 'e', 'c', 'f']\n"
     ]
    }
   ],
   "source": [
    "\n",
    "def preorder1(tree, i=0):\n",
    "    if i < len(tree):\n",
    "        print(tree[i], end=' ')\n",
    "        left = 2 * i + 1\n",
    "        right = 2 * i + 2\n",
    "        if left < len(tree) and tree[left] is not None:\n",
    "            preorder1(tree,left)\n",
    "        if right < len(tree) and tree[right] is not None:\n",
    "            preorder1(tree,right)\n",
    "print(preorder1(['a', 'b', 'c', 'd', 'e', 'f', None, 'g']))\n",
    "\n",
    "def preorder2(tree):\n",
    "    res = []\n",
    "    def _preorder2(i=0):\n",
    "        if i>=len(tree) or tree[i] is None:\n",
    "            return\n",
    "        res.append(tree[i])\n",
    "        _preorder2(2*i+1)\n",
    "        _preorder2(2*i+2)\n",
    "    _preorder2()\n",
    "    return res\n",
    "print(preorder2(['a', 'b', 'c', 'd', 'e', 'f', None, 'g']))"
   ]
  },
  {
   "cell_type": "code",
   "execution_count": 526,
   "metadata": {},
   "outputs": [
    {
     "name": "stdout",
     "output_type": "stream",
     "text": [
      "['g', 'd', 'b', 'e', 'a', 'f', 'c']\n"
     ]
    }
   ],
   "source": [
    "def inorder(tree):\n",
    "    res=[]\n",
    "    def _inorder(i=0):\n",
    "        if i>= len(tree) or tree[i] is None:\n",
    "            return\n",
    "        _inorder(2*i+1)\n",
    "        res.append(tree[i])\n",
    "        _inorder(2*i+2)\n",
    "    _inorder()\n",
    "    return res\n",
    "print(inorder(['a', 'b', 'c', 'd', 'e', 'f', None, 'g']))"
   ]
  },
  {
   "cell_type": "code",
   "execution_count": 528,
   "metadata": {},
   "outputs": [
    {
     "name": "stdout",
     "output_type": "stream",
     "text": [
      "['g', 'd', 'e', 'b', 'f', 'c', 'a']\n"
     ]
    }
   ],
   "source": [
    "def postorder(tree):\n",
    "    res=[]\n",
    "    def _postorder(i=0):\n",
    "        if i>= len(tree) or tree[i] is None:\n",
    "            return\n",
    "        _postorder(2*i+1)\n",
    "        _postorder(2*i+2)\n",
    "        res.append(tree[i])\n",
    "    _postorder()\n",
    "    return res\n",
    "print(postorder(['a', 'b', 'c', 'd', 'e', 'f', None, 'g']))"
   ]
  },
  {
   "cell_type": "code",
   "execution_count": 631,
   "metadata": {},
   "outputs": [
    {
     "name": "stdout",
     "output_type": "stream",
     "text": [
      "힙에 2를 추가한 결과 [3, 4, 4, 8, 5, 7, 6]\n"
     ]
    }
   ],
   "source": [
    "def heappush(heap, data):\n",
    "    heap.append(data)\n",
    "    current = len(heap)\n",
    "    while current > 0:\n",
    "        parent = (current - 1) // 2\n",
    "        if heap[parent] > heap[current]:\n",
    "            heap[parent], heap[current] = heap[current], heap[parent]\n",
    "            current = parent\n",
    "        else:\n",
    "            break\n",
    "\n",
    "import heapq\n",
    "h1 = [3,4,6,8,5,7]\n",
    "h2 = [3,4,6,8,5,7]\n",
    "\n",
    "heapq.heappush(h1, 4)\n",
    "print(f'힙에 2를 추가한 결과 {h1}')"
   ]
  },
  {
   "cell_type": "code",
   "execution_count": 630,
   "metadata": {},
   "outputs": [
    {
     "name": "stdout",
     "output_type": "stream",
     "text": [
      "힙에서 pop을 수행한 결과 []\n"
     ]
    }
   ],
   "source": [
    "def heappop(heap):\n",
    "    if not heap:\n",
    "        return 'heap is empty'\n",
    "    elif len(heap) == 1: # 힙에 원소가 하나\n",
    "        return heap.pop()\n",
    "    pop_data, heap[0] = heap[0], heap.pop() # pop_data : 임시데이터, heap[0] : 탐색해야 할 값\n",
    "    current, child = 0, 1 # 루트노드, 자식노드(left)\n",
    "    while child < len(heap):\n",
    "        sibling = child + 1\n",
    "        if sibling < len(heap) and heap[child] > heap[sibling]:\n",
    "            child = sibling\n",
    "        if heap[current] > heap[child]: # 자식노드와 현재 노드를 변경\n",
    "            heap[current], heap[child] = heap[child], heap[current]\n",
    "            current = child\n",
    "            child = current * 2 + 1\n",
    "        else:\n",
    "            break\n",
    "    return pop_data\n",
    "\n",
    "heappop(h1)\n",
    "print(f'힙에서 pop을 수행한 결과 {h1}')"
   ]
  },
  {
   "cell_type": "code",
   "execution_count": 632,
   "metadata": {},
   "outputs": [
    {
     "data": {
      "text/plain": [
       "[1, 2, 4, 6, 3, 8, 5]"
      ]
     },
     "execution_count": 632,
     "metadata": {},
     "output_type": "execute_result"
    }
   ],
   "source": [
    "# 아무 배열이나 받고 'heap'으로 만들기 !\n",
    "# 1. 가장 마지막 인덱스부터 시작\n",
    "# 2. 현재 인덱스를 저장\n",
    "# 3. 교환할지 저장할 변수를 False\n",
    "# 4. heappush 부모노드와 값을 비교\n",
    "# 5. 만약 교환되면 교환 변수를 True\n",
    "# 6. 다시 시작. (2번에서 저장된 현재 인덱스)\n",
    "# 7. 교환이 안되었으면 다음 인덱스로 패스\n",
    "\n",
    "def heapify(arr):\n",
    "    current = start = len(arr) -1\n",
    "    while start > 0:\n",
    "        is_swaped = False\n",
    "        while current>0:\n",
    "            parent = (current - 1) // 2\n",
    "            if arr[parent] > arr[current]:\n",
    "                arr[current], arr[parent] = arr[parent], arr[current]\n",
    "                current = parent\n",
    "                is_swaped = True\n",
    "            else:\n",
    "                break\n",
    "        if is_swaped:\n",
    "            current = start\n",
    "        else:\n",
    "            current = start = current -1\n",
    "    return arr\n",
    "\n",
    "ary = [5,2,4,6,1,8,3]\n",
    "heapify(ary)"
   ]
  },
  {
   "cell_type": "code",
   "execution_count": 638,
   "metadata": {},
   "outputs": [
    {
     "name": "stdout",
     "output_type": "stream",
     "text": [
      "원본 배열 :  [24436, 22942, 23549, 25183, 7981]\n",
      "5번째 작은 값 : 564\n",
      "5번째 작은 값 (with_heap) : 363\n"
     ]
    }
   ],
   "source": [
    "def find_min(arr, k):\n",
    "    heapq.heapify(arr)\n",
    "    for _ in range(k-1): # k-1 번째 작은 값이 루트로 올때까지\n",
    "        heapq.heappop(arr)\n",
    "    return heapq.heappop(arr)\n",
    "\n",
    "import numpy as np\n",
    "arr = list(np.random.choice(range(1, 30000), replace=False, size=500))\n",
    "arr_sort = sorted(arr)\n",
    "\n",
    "k=5\n",
    "print(f'원본 배열 : ', arr[:5])\n",
    "print(f'{k}번째 작은 값 : {arr_sort[k+1]}')\n",
    "print(f'{k}번째 작은 값 (with_heap) : {find_min(arr, k)}')"
   ]
  },
  {
   "cell_type": "code",
   "execution_count": 644,
   "metadata": {},
   "outputs": [
    {
     "data": {
      "text/plain": [
       "{'a': 2, 'b': 2}"
      ]
     },
     "execution_count": 644,
     "metadata": {},
     "output_type": "execute_result"
    }
   ],
   "source": [
    "# 알파벳 소문자로 이루어진 문자열 s과 숫자 k가 주어진다. k개의 문자를 삭제하여 얻을 수 있는 문자열의 최솟값을 반환하라. 문자열의 값은 각 문자의 개수를 제곱하여 더한 것이다.\n",
    "\n",
    "def str_game(data, k):\n",
    "    cnt = dict()\n",
    "    for ch in data: # 문자의 개수를 셈\n",
    "        if ch not in cnt:\n",
    "            cnt[ch] = 1\n",
    "        else:\n",
    "            cnt[ch] += 1\n",
    "\n",
    "    heap = list()\n",
    "    for value in cnt.values():\n",
    "        heapq.heappush(heap, -value) # heapq는 최소힙이므로 최대힙으로 사용하려면 - 필요\n",
    "\n",
    "    for _ in range(k): # 최대힙을 만들어서 최대값을 찾은다음, 1씩 빼고 다시 푸쉬\n",
    "        temp = heapq.heappop(heap) + 1\n",
    "        heapq.heappush(heap, temp)\n",
    "\n",
    "    answer = 0"
   ]
  }
 ],
 "metadata": {
  "kernelspec": {
   "display_name": "base",
   "language": "python",
   "name": "python3"
  },
  "language_info": {
   "codemirror_mode": {
    "name": "ipython",
    "version": 3
   },
   "file_extension": ".py",
   "mimetype": "text/x-python",
   "name": "python",
   "nbconvert_exporter": "python",
   "pygments_lexer": "ipython3",
   "version": "3.12.1"
  }
 },
 "nbformat": 4,
 "nbformat_minor": 2
}

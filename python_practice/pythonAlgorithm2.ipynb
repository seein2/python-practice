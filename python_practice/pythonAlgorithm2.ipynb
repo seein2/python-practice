{
 "cells": [
  {
   "cell_type": "markdown",
   "metadata": {},
   "source": [
    "# 소수찾기"
   ]
  },
  {
   "cell_type": "code",
   "execution_count": 40,
   "metadata": {},
   "outputs": [],
   "source": [
    "# 소수 찾기1\n",
    "import math\n",
    "def prime_num(num):\n",
    "    square_n = int(math.sqrt(num)+1)\n",
    "    for i in range(2, square_n):\n",
    "        if num % i == 0:\n",
    "            return False\n",
    "        else:\n",
    "            return '소수'\n",
    "prime_num(3)"
   ]
  },
  {
   "cell_type": "code",
   "execution_count": 34,
   "metadata": {},
   "outputs": [
    {
     "name": "stdout",
     "output_type": "stream",
     "text": [
      "4\n"
     ]
    }
   ],
   "source": [
    "# 내가 입력한 숫자 안에 소수가 몇개인지 찾는 코드\n",
    "n=int(input('정수를 입력'))\n",
    "res=0\n",
    "for i in range(2, n):\n",
    "    if prime_num(i):\n",
    "        res += 1\n",
    "print(res)\n"
   ]
  },
  {
   "cell_type": "code",
   "execution_count": 49,
   "metadata": {},
   "outputs": [
    {
     "name": "stdout",
     "output_type": "stream",
     "text": [
      "6\n"
     ]
    }
   ],
   "source": [
    "# 에라토스테네스의 체\n",
    "num = 9\n",
    "prime = [True] * (num+1)\n",
    "prime[0], prime[1] = False, False\n",
    "\n",
    "for i in range(2, int(num**0.5 + 1)):\n",
    "    if prime[i]:\n",
    "        for j in range(i*i, num+1, i): # i의 배수는 소수가 아니다\n",
    "            prime[i] = False\n",
    "\n",
    "def count_primes_in_range(prime, start, end):\n",
    "    return sum(prime[start:end+1])\n",
    "print(count_primes_in_range(prime, 1, num))"
   ]
  },
  {
   "cell_type": "markdown",
   "metadata": {},
   "source": [
    "# 신기한 수 찾기\n",
    "### 각 자릿수를 더한 값으로 원래의 수가 나누어지는 경우를 신기한 수라고 정의합니다. 예를 들어, 18의 각 자릿수의 합은 1 + 8 = 9이고, 18은 9로 나누어지기 때문에 18은 신기한 수입니다."
   ]
  },
  {
   "cell_type": "code",
   "execution_count": 73,
   "metadata": {},
   "outputs": [
    {
     "data": {
      "text/plain": [
       "23"
      ]
     },
     "execution_count": 73,
     "metadata": {},
     "output_type": "execute_result"
    }
   ],
   "source": [
    "def is_singi(n):\n",
    "    tot = 0\n",
    "    for s in str(n): # 각 자리수 더하기\n",
    "        tot += int(s)\n",
    "\n",
    "    if n % tot == 0:\n",
    "        return True\n",
    "    else:\n",
    "        return False\n",
    "    \n",
    "n=50\n",
    "cnt=0\n",
    "for i in range(1, n+1):\n",
    "    if is_singi(i):\n",
    "        cnt+=1\n",
    "cnt"
   ]
  },
  {
   "cell_type": "markdown",
   "metadata": {},
   "source": [
    "# 숫자의 개수\n",
    "### 3개의 숫자 A, B, C를 입력받아 이들의 곱을 구합니다. 그 곱에 사용된 각 숫자의 개수를 구하여 0부터 9까지 각각 몇 개씩 사용되었는지 출력하는 문제입니다."
   ]
  },
  {
   "cell_type": "code",
   "execution_count": 82,
   "metadata": {},
   "outputs": [
    {
     "name": "stdout",
     "output_type": "stream",
     "text": [
      "1 은 1 번 사용됨.\n",
      "7 은 2 번 사용됨.\n",
      "0 은 3 번 사용됨.\n",
      "3 은 2 번 사용됨.\n"
     ]
    }
   ],
   "source": [
    "a, b, c = 150, 266, 427\n",
    "num = a*b*c\n",
    "dic=dict()\n",
    "\n",
    "for s in str(num):\n",
    "    if s not in dic:\n",
    "        dic[str(s)] = 1\n",
    "    else:\n",
    "        dic[str(s)] += 1\n",
    "\n",
    "for n, c in dic.items():\n",
    "    print(f'{n} 은 {c} 번 사용됨.')"
   ]
  },
  {
   "cell_type": "markdown",
   "metadata": {},
   "source": [
    "# 정렬"
   ]
  },
  {
   "cell_type": "markdown",
   "metadata": {},
   "source": [
    "## 버블 정렬"
   ]
  },
  {
   "cell_type": "code",
   "execution_count": 133,
   "metadata": {},
   "outputs": [
    {
     "data": {
      "text/plain": [
       "[1, 2, 3, 4, 5]"
      ]
     },
     "execution_count": 133,
     "metadata": {},
     "output_type": "execute_result"
    }
   ],
   "source": [
    "def bubble_sort(arr):\n",
    "    for i in range(len(arr)-1):\n",
    "        for j in range(len(arr)-1-i):\n",
    "            if arr[j] > arr[j+1]:\n",
    "                arr[j], arr[j+1] = arr[j+1], arr[j]\n",
    "    return arr\n",
    "bubble_sort([5,4,3,2,1])"
   ]
  },
  {
   "cell_type": "markdown",
   "metadata": {},
   "source": [
    "## 퀵 정렬"
   ]
  },
  {
   "cell_type": "code",
   "execution_count": 104,
   "metadata": {},
   "outputs": [
    {
     "data": {
      "text/plain": [
       "[1, 2, 3, 4, 5, 8, 9]"
      ]
     },
     "execution_count": 104,
     "metadata": {},
     "output_type": "execute_result"
    }
   ],
   "source": [
    "def quick_sort(arr):\n",
    "    if len(arr) <= 1:\n",
    "        return arr\n",
    "    pivot = arr[len(arr) // 2]\n",
    "    left = []\n",
    "    for x in arr:\n",
    "        if x < pivot:\n",
    "            left.append(x)\n",
    "    right = [x for x in arr if x > pivot]\n",
    "    middle = [x for x in arr if x == pivot]\n",
    "    result = quick_sort(left) + middle + quick_sort(right)\n",
    "    return result\n",
    "\n",
    "quick_sort([9,8,7,6,5,4,3,2,1])"
   ]
  },
  {
   "cell_type": "markdown",
   "metadata": {},
   "source": [
    "# 팩토리얼"
   ]
  },
  {
   "cell_type": "code",
   "execution_count": 114,
   "metadata": {},
   "outputs": [
    {
     "data": {
      "text/plain": [
       "120"
      ]
     },
     "execution_count": 114,
     "metadata": {},
     "output_type": "execute_result"
    }
   ],
   "source": [
    "def _factorial(num):\n",
    "    f = 1\n",
    "    for i in range(1, num+1):\n",
    "        f *= i\n",
    "    return f\n",
    "_factorial(5)"
   ]
  },
  {
   "cell_type": "code",
   "execution_count": 120,
   "metadata": {},
   "outputs": [
    {
     "data": {
      "text/plain": [
       "120"
      ]
     },
     "execution_count": 120,
     "metadata": {},
     "output_type": "execute_result"
    }
   ],
   "source": [
    "def _factorial2(num):\n",
    "    if num <= 1:\n",
    "        return 1\n",
    "    return num * _factorial2(num-1)\n",
    "_factorial2(5)"
   ]
  },
  {
   "cell_type": "markdown",
   "metadata": {},
   "source": [
    "# 블랙잭\n",
    "### 리스트에서 3개의 숫자를 골라 그 합이 M보다 작은 가장 큰 수를 구하는 문제"
   ]
  },
  {
   "cell_type": "code",
   "execution_count": 130,
   "metadata": {},
   "outputs": [
    {
     "name": "stdout",
     "output_type": "stream",
     "text": [
      "1 2 3\n",
      "6\n"
     ]
    }
   ],
   "source": [
    "##\n",
    "n, m = map(int ,input().split()) # n:카드개수, m:카드 숫자 합\n",
    "arr = list(map(int, input().split())) # arr:카드에 쓰여진 수\n",
    "\n",
    "my_max = 0\n",
    "for i in range(n-2):\n",
    "    for j in range(i+1, n-1):\n",
    "        for k in range(j+1, n):\n",
    "            my_sum = arr[i] + arr[j] + arr[k]\n",
    "            if my_max < my_sum <= m:\n",
    "                print(arr[i], arr[j], arr[k])\n",
    "                my_max = my_sum\n",
    "print(my_max)"
   ]
  },
  {
   "cell_type": "markdown",
   "metadata": {},
   "source": [
    "# 369 게임"
   ]
  },
  {
   "cell_type": "code",
   "execution_count": 137,
   "metadata": {},
   "outputs": [
    {
     "name": "stdout",
     "output_type": "stream",
     "text": [
      "3\n",
      "6\n",
      "9\n",
      "13\n",
      "16\n",
      "19\n",
      "23\n",
      "26\n",
      "29\n",
      "총 박수 횟수는 9\n"
     ]
    }
   ],
   "source": [
    "num = 30\n",
    "cnt = 0\n",
    "\n",
    "for i in range(int(num)):\n",
    "    if ('3' in str(i)) or ('6' in str(i)) or ('9' in str(i)):\n",
    "        cnt += 1\n",
    "        print(i)\n",
    "print(f'총 박수 횟수는 {cnt}')"
   ]
  },
  {
   "cell_type": "markdown",
   "metadata": {},
   "source": [
    "# 슬라이딩 윈도우"
   ]
  },
  {
   "cell_type": "code",
   "execution_count": 138,
   "metadata": {},
   "outputs": [
    {
     "data": {
      "text/plain": [
       "22"
      ]
     },
     "execution_count": 138,
     "metadata": {},
     "output_type": "execute_result"
    }
   ],
   "source": [
    "def sliding_window(arr, k):\n",
    "    window_sum = sum(arr[:k])\n",
    "    max_sum = window_sum\n",
    "\n",
    "    for i in range(1, len(arr) - k + 1):\n",
    "        window_sum = window_sum = arr[i-1] + arr[i+k-1]\n",
    "        max_sum = max(max_sum, window_sum)\n",
    "    return max_sum\n",
    "sliding_window([5, 3, 2, 5, 7, 1, 4, 3, 8, 6], 5)"
   ]
  },
  {
   "cell_type": "markdown",
   "metadata": {},
   "source": [
    "### DNA 비밀번호\n",
    "평소에 문자열을 가지고 노는 것을 좋아하는 민호는 DNA 문자열을 알게 되었다. DNA 문자열은 모든 문자열에 등장하는 문자가 {‘A’, ‘C’, ‘G’, ‘T’} 인 문자열을 말한다. 예를 들어 “ACKA”는 DNA 문자열이 아니지만 “ACCA”는 DNA 문자열이다. 이런 신비한 문자열에 완전히 매료된 민호는 임의의 DNA 문자열을 만들고 만들어진 DNA 문자열의 부분문자열을 비밀번호로 사용하기로 마음먹었다.\n",
    "\n",
    "하지만 민호는 이러한 방법에는 큰 문제가 있다는 것을 발견했다. 임의의 DNA 문자열의 부분문자열을 뽑았을 때 “AAAA”와 같이 보안에 취약한 비밀번호가 만들어 질 수 있기 때문이다. 그래서 민호는 부분문자열에서 등장하는 문자의 개수가 특정 개수 이상이여야 비밀번호로 사용할 수 있다는 규칙을 만들었다.\n",
    "\n",
    "임의의 DNA문자열이 “AAACCTGCCAA” 이고 민호가 뽑을 부분문자열의 길이를 4라고 하자. 그리고 부분문자열에 ‘A’ 는 1개 이상, ‘C’는 1개 이상, ‘G’는 1개 이상, ‘T’는 0개 이상이 등장해야 비밀번호로 사용할 수 있다고 하자. 이때 “ACCT” 는 ‘G’ 가 1 개 이상 등장해야 한다는 조건을 만족하지 못해 비밀번호로 사용하지 못한다. 하지만 “GCCA” 은 모든 조건을 만족하기 때문에 비밀번호로 사용할 수 있다.\n",
    "\n",
    "민호가 만든 임의의 DNA 문자열과 비밀번호로 사용할 부분분자열의 길이, 그리고 {‘A’, ‘C’, ‘G’, ‘T’} 가 각각 몇번 이상 등장해야 비밀번호로 사용할 수 있는지 순서대로 주어졌을 때 민호가 만들 수 있는 비밀번호의 종류의 수를 구하는 프로그램을 작성하자. 단 부분문자열이 등장하는 위치가 다르다면 부분문자열이 같다고 하더라도 다른 문자열로 취급한다."
   ]
  },
  {
   "cell_type": "code",
   "execution_count": null,
   "metadata": {},
   "outputs": [],
   "source": [
    "dna_map = {'A':0, 'C':1, 'G':2, 'T':3}\n"
   ]
  },
  {
   "cell_type": "code",
   "execution_count": 6,
   "metadata": {},
   "outputs": [
    {
     "name": "stdout",
     "output_type": "stream",
     "text": [
      "2\n"
     ]
    }
   ],
   "source": [
    "S, P = map(int, input().split()) # S : DNA 문자열 길이, P : 부분 문자열 길이\n",
    "dna_string = input().strip()\n",
    "required_counts = list(map(int, input().split())) # (A, C, G, T)의 최소 요구 개수\n",
    "\n",
    "def is_valid(current_count, required_counts):\n",
    "    for i in range(4):\n",
    "        if current_count[i] < required_counts[i]:\n",
    "            return False\n",
    "    return True\n",
    "\n",
    "current_count = [0,0,0,0] # 문자열의 현재 A, C, G, T의 개수\n",
    "dna_map = {'A': 0, 'C':1, 'G':2, 'T':3}\n",
    "\n",
    "for i in range(P):\n",
    "    current_count[dna_map[dna_string[i]]] += 1\n",
    "\n",
    "# 전체 문자열에서 해당 비밀번호의 총 개수\n",
    "valid_passwords = 0\n",
    "\n",
    "if is_valid(current_count, required_counts):\n",
    "    valid_passwords += 1\n",
    "\n",
    "# 슬라이딩 윈도우\n",
    "for i in range(1, S - P + 1):\n",
    "    current_count[dna_map[dna_string[i-1]]] -= 1 # 이전 문자 하나 제거\n",
    "    current_count[dna_map[dna_string[i + P -1]]] += 1 # 새로운 문자 추가\n",
    "    if is_valid(current_count, required_counts):\n",
    "        valid_passwords += 1\n",
    "\n",
    "print(valid_passwords)"
   ]
  }
 ],
 "metadata": {
  "kernelspec": {
   "display_name": "base",
   "language": "python",
   "name": "python3"
  },
  "language_info": {
   "codemirror_mode": {
    "name": "ipython",
    "version": 3
   },
   "file_extension": ".py",
   "mimetype": "text/x-python",
   "name": "python",
   "nbconvert_exporter": "python",
   "pygments_lexer": "ipython3",
   "version": "3.12.1"
  }
 },
 "nbformat": 4,
 "nbformat_minor": 2
}

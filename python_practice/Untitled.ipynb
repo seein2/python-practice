{
 "cells": [
  {
   "cell_type": "code",
   "execution_count": 1,
   "id": "807e5811",
   "metadata": {},
   "outputs": [
    {
     "name": "stdout",
     "output_type": "stream",
     "text": [
      "기회 5번 남았음\n",
      "O\n"
     ]
    }
   ],
   "source": [
    "count = 6\n",
    "while True:\n",
    "    s = input('3 + 3 = ?')\n",
    "    if s == '6':\n",
    "        print('O')\n",
    "        break\n",
    "    else:\n",
    "        print(f'기회 {count-1}번 남았음')\n",
    "        count -= 1\n",
    "        if count == 0:\n",
    "            print('사망')\n",
    "            break"
   ]
  },
  {
   "cell_type": "code",
   "execution_count": 226,
   "id": "ee25a6e0",
   "metadata": {},
   "outputs": [
    {
     "name": "stdout",
     "output_type": "stream",
     "text": [
      "비겻다! \n",
      "(플레이어)가위\t(컴퓨터)가위\n",
      "졌다! \n",
      "(플레이어)가위\t(컴퓨터)바위\n",
      "이겼다! \n",
      "(플레이어)바위\t(컴퓨터)가위\n"
     ]
    }
   ],
   "source": [
    "import random\n",
    "\n",
    "g=['가위', '바위', '보']\n",
    "# p = int(input ('0, 1, 2 중 하나를 입력하세요'))\n",
    "# c = random.choice([0,1,2])\n",
    "\n",
    "while True:\n",
    "    p = int(input ('0, 1, 2 중 하나를 입력하세요'))\n",
    "    c = random.choice([0,1,2])\n",
    "    if (p+1) % 3 == c:\n",
    "        print(f'졌다! \\n(플레이어){g[p]}\\t(컴퓨터){g[c]}')\n",
    "        continue\n",
    "    elif p==c:\n",
    "        print(f'비겻다! \\n(플레이어){g[p]}\\t(컴퓨터){g[c]}')\n",
    "        continue\n",
    "    elif (p-1)%3 == c:\n",
    "        print(f'이겼다! \\n(플레이어){g[p]}\\t(컴퓨터){g[c]}')\n",
    "        break\n",
    "    else:\n",
    "        print('0, 1, 2 만 입력해야지!')\n",
    "        continue"
   ]
  },
  {
   "cell_type": "code",
   "execution_count": 270,
   "id": "11626f1e",
   "metadata": {},
   "outputs": [
    {
     "name": "stdout",
     "output_type": "stream",
     "text": [
      "self: 4898841008\n",
      "instance: 4898841008\n"
     ]
    }
   ],
   "source": [
    "class CheckSelf:\n",
    "\tdef __init__(self):\n",
    "\t\tprint('self:',id(self))\n",
    "\n",
    "inst = CheckSelf()\n",
    "print('instance:',id(inst))"
   ]
  },
  {
   "cell_type": "code",
   "execution_count": 481,
   "id": "25030037",
   "metadata": {},
   "outputs": [
    {
     "name": "stdout",
     "output_type": "stream",
     "text": [
      "입금1, 잔고1\n",
      "입금1, 잔고2\n"
     ]
    }
   ],
   "source": [
    "import random\n",
    "\n",
    "class Bank:\n",
    "    \n",
    "    def __init__(self, bName, uName):\n",
    "        self.bName = bName\n",
    "        self.uName = uName\n",
    "        self.balance = 0\n",
    "        num1 = str(random.randint(0,999)).zfill(3)\n",
    "        num2 = str(random.randint(0,9999)).zfill(4)\n",
    "        num3 = str(random.randint(0,99)).zfill(2)\n",
    "        self.count_num = num1+'-'+num2+'-'+num3\n",
    "\n",
    "    def deposit(self, money):\n",
    "        self.balance += money\n",
    "        print(f'입금{money}, 잔고{self.balance}')\n",
    "    def get_account_num(Bank):\n",
    "        print(Bank.count_num)\n",
    "\n",
    "user = Bank('kb', 'lee')\n",
    "\n",
    "user.deposit(1)\n",
    "user.deposit(1)"
   ]
  },
  {
   "cell_type": "code",
   "execution_count": 536,
   "id": "28426070",
   "metadata": {},
   "outputs": [
    {
     "name": "stdout",
     "output_type": "stream",
     "text": [
      "Wheel : 4\n",
      "Price : 3\n",
      "Person : 4\n"
     ]
    }
   ],
   "source": [
    "class Car:\n",
    "    def __init__(self, wheel, price):\n",
    "        self.wheel = wheel\n",
    "        self.price = price\n",
    "\n",
    "    def accel(self):\n",
    "        return self.wheel*55\n",
    "class Car2(Car):\n",
    "    def __init__(self, wheel, price, person):\n",
    "        self.person = person\n",
    "        super().__init__(wheel, price)\n",
    "\n",
    "    def info(self):\n",
    "        print(f'Wheel : {self.wheel}')\n",
    "        print(f'Price : {self.price}')\n",
    "        print(f'Person : {self.person}')\n",
    "\n",
    "    def accel(self):\n",
    "        return self.wheel*66\n",
    "\n",
    "cr = Car2(4,3, 4)\n",
    "cr.info()\n"
   ]
  },
  {
   "cell_type": "code",
   "execution_count": 29,
   "id": "ac0c7e17",
   "metadata": {},
   "outputs": [
    {
     "name": "stdout",
     "output_type": "stream",
     "text": [
      "송태섭 은 포인트 가드(PG)입니다.\n"
     ]
    }
   ],
   "source": [
    "import ex1\n",
    "ex1.buksan\n",
    "ex1.position('송태섭')"
   ]
  },
  {
   "cell_type": "code",
   "execution_count": 88,
   "id": "75efcf91",
   "metadata": {},
   "outputs": [],
   "source": [
    "class WordDictionary:\n",
    "  def __init__(self):\n",
    "    self.dictionary = {}\n",
    "\n",
    "  def add_word(self, word, meaning):\n",
    "    self.dictionary[word] = meaning\n",
    "\n",
    "  def get_word_meaning(self, word):\n",
    "    # 단어장에 단어가 존재하면 해당 단어의 뜻을 출력\n",
    "    if word in self.dictionary:\n",
    "      return self.dictionary[word]\n",
    "    else:\n",
    "      return \"단어가 없습니다.\"\n",
    "\n",
    "  def get_meaning_word(self, meaning):\n",
    "    # 단어장에 뜻을 찾아서 단어를 출력\n",
    "    for word, mean in self.dictionary.items():\n",
    "      if meaning == mean:\n",
    "        return word\n",
    "\n",
    "  def display_all(self):\n",
    "    # 단어장의 모든 단어를 출력\n",
    "    for word, mean in self.dictionary.items():\n",
    "      print(word ,' : ',mean)\n",
    "\n",
    "\n",
    "dictionary = WordDictionary()\n",
    "  # 선택에 따라 저장, 단어 출력, 뜻 출력, 모든 단어 출력, 나가기 기능"
   ]
  },
  {
   "cell_type": "code",
   "execution_count": 92,
   "id": "c61b9dc0",
   "metadata": {},
   "outputs": [],
   "source": [
    "import random\n",
    "\n",
    "class WordGame(WordDictionary):\n",
    "    def __init__(self):\n",
    "        super().__init__()\n",
    "        self.score = 100\n",
    "        self.log = []\n",
    "\n",
    "    def gamestart(self):\n",
    "        self.word = list(self.dictionary.keys())\n",
    "        num = len(self.word) if len(self.word) <= 10 else 10\n",
    "\n",
    "        if num == 0:\n",
    "            print('단어가 없습니다. 단어를 추가하세요.')\n",
    "\n",
    "        for i in range(num):\n",
    "            word = random.choice(self.word)\n",
    "            mean = self.dictionary[word]\n",
    "            player = input(f'{word} 의 뜻을 입력')\n",
    "            self.log.append((mean, player))\n",
    "\n",
    "            if player!=mean:\n",
    "                self.score -= 10\n",
    "\n",
    "    def display_all(self):\n",
    "        print(f'최종 점수 {self.score}\\n')\n",
    "\n",
    "        for m, p in self.log:\n",
    "            print(f'정답 : {m} / 입력값 : {p}')\n",
    "\n",
    "w = WordGame()"
   ]
  },
  {
   "cell_type": "code",
   "execution_count": null,
   "id": "508fa9ac",
   "metadata": {},
   "outputs": [],
   "source": [
    "while True:\n",
    "    print('1. 단어 저장')\n",
    "    print('2. 단어로 뜻 찾기')\n",
    "    print('3. 뜻으로 단어 찾기')\n",
    "    print('4. 단어맞추기 게임')\n",
    "    print('5. 종료')\n",
    "    print('------------------')\n",
    "    choice = input('1 ~ 5 중 골라')\n",
    "    if choice not in ['1', '2', '3', '4', '5']:\n",
    "        print('다시 선택해')\n",
    "        continue\n",
    "    else:\n",
    "        choice = int(choice)\n",
    "\n",
    "    if choice == 1:\n",
    "        word = input('단어 입력해')\n",
    "        mean = input('뜻도 입력해')\n",
    "        w.add_word(word, mean)\n",
    "        print('입력 완료')\n",
    "    elif choice == 2:\n",
    "        word = input('단어 입력해봐')\n",
    "        mean = w.get_word_meaning(word)\n",
    "        if mean != '없는 단어':\n",
    "            print(f'{word} : {mean}')\n",
    "        else:\n",
    "            print(mean)\n",
    "    elif choice == 3:\n",
    "        mean = input('뜻 입력해봐')\n",
    "        word = w.get_meaning_word(mean)\n",
    "        if mean != '없는 단어':\n",
    "            print(f'{mean}의 뜻을 가진 단어는 {word}')\n",
    "        else:\n",
    "            print(word)\n",
    "    elif choice == 4:\n",
    "        w.gamestart()\n",
    "        w.display_all()\n",
    "    else:\n",
    "        print('종료합니다')\n",
    "        break"
   ]
  },
  {
   "cell_type": "code",
   "execution_count": 106,
   "id": "3317f582",
   "metadata": {},
   "outputs": [
    {
     "name": "stdout",
     "output_type": "stream",
     "text": [
      "숫자가 아니다!\n",
      "입력한 값은 d\n"
     ]
    }
   ],
   "source": [
    "\n",
    "try:\n",
    "    a = input('숫자를 입력하세요')\n",
    "    result = int(a)+5\n",
    "except ValueError as v:\n",
    "    print('숫자가 아니다!')\n",
    "else:\n",
    "    print(result**2)\n",
    "finally:\n",
    "    print(f'입력한 값은 {a}')\n"
   ]
  },
  {
   "cell_type": "code",
   "execution_count": 113,
   "id": "9933e7d3",
   "metadata": {},
   "outputs": [
    {
     "ename": "IndexError",
     "evalue": "",
     "output_type": "error",
     "traceback": [
      "\u001b[0;31m---------------------------------------------------------------------------\u001b[0m",
      "\u001b[0;31mIndexError\u001b[0m                                Traceback (most recent call last)",
      "Cell \u001b[0;32mIn[113], line 38\u001b[0m\n\u001b[1;32m     35\u001b[0m         \u001b[38;5;28;01mif\u001b[39;00m first_pw \u001b[38;5;241m==\u001b[39m second_pw:\n\u001b[1;32m     36\u001b[0m             \u001b[38;5;28;01mbreak\u001b[39;00m\n\u001b[0;32m---> 38\u001b[0m \u001b[43mcreate_pw\u001b[49m\u001b[43m(\u001b[49m\u001b[43m)\u001b[49m\n",
      "Cell \u001b[0;32mIn[113], line 27\u001b[0m, in \u001b[0;36mcreate_pw\u001b[0;34m()\u001b[0m\n\u001b[1;32m     25\u001b[0m second_pw \u001b[38;5;241m=\u001b[39m \u001b[38;5;28minput\u001b[39m(\u001b[38;5;124m'\u001b[39m\u001b[38;5;124m앞에 비밀번호와 같은 번호를 입력하시오.\u001b[39m\u001b[38;5;124m'\u001b[39m)\n\u001b[1;32m     26\u001b[0m \u001b[38;5;28;01mif\u001b[39;00m \u001b[38;5;28mlen\u001b[39m(first_pw) \u001b[38;5;241m!=\u001b[39m \u001b[38;5;28mlen\u001b[39m(second_pw):\n\u001b[0;32m---> 27\u001b[0m     \u001b[38;5;28;01mraise\u001b[39;00m \u001b[38;5;167;01mIndexError\u001b[39;00m\n\u001b[1;32m     28\u001b[0m \u001b[38;5;28;01mif\u001b[39;00m \u001b[38;5;28mlen\u001b[39m(second_pw) \u001b[38;5;241m<\u001b[39m \u001b[38;5;241m6\u001b[39m:\n\u001b[1;32m     29\u001b[0m     \u001b[38;5;28;01mraise\u001b[39;00m TooShort\n",
      "\u001b[0;31mIndexError\u001b[0m: "
     ]
    }
   ],
   "source": [
    "class TooShort(Exception):\n",
    "    msg = '비밀번호가 6자리보다 짧습니다.'\n",
    "    def __init__(self):\n",
    "        super().__init__(self.msg)\n",
    "\n",
    "    def __str__(self):\n",
    "        return self.msg\n",
    "    \n",
    "class TooLong(Exception):\n",
    "    msg = '비밀번호가 10자리보다 깁니다.'\n",
    "    def __init__(self):\n",
    "        super().__init__(self.msg)\n",
    "\n",
    "    def __str__(self):\n",
    "        return self.msg\n",
    "\n",
    "def create_pw():\n",
    "    while True:\n",
    "        try:\n",
    "            first_pw = input('비밀번호를 입력하시오.')\n",
    "            if first_pw == '나가기':\n",
    "                break\n",
    "            else:\n",
    "                int(first_pw)\n",
    "                second_pw = input('앞에 비밀번호와 같은 번호를 입력하시오.')\n",
    "                if len(first_pw) != len(second_pw):\n",
    "                    raise IndexError\n",
    "                if len(second_pw) < 6:\n",
    "                    raise TooShort\n",
    "                elif len(second_pw) > 10:\n",
    "                    raise TooLong\n",
    "        except ValueError as e :\n",
    "            print(f'{e} 숫자만 입력하시오')  \n",
    "            continue\n",
    "        if first_pw == second_pw:\n",
    "            break\n",
    "\n",
    "create_pw()"
   ]
  },
  {
   "cell_type": "code",
   "execution_count": 143,
   "id": "ad3869cb",
   "metadata": {},
   "outputs": [
    {
     "name": "stdout",
     "output_type": "stream",
     "text": [
      "설정 완료\n"
     ]
    }
   ],
   "source": [
    "class TooLong(Exception):\n",
    "    def __str__(self) -> str:\n",
    "        return '너무길어'\n",
    "class TooShort(Exception):\n",
    "    def __str__(self) -> str:\n",
    "        return '너무짧음'\n",
    "\n",
    "pw_file=\"empty pw\"\n",
    "\n",
    "try:\n",
    "    pw1 = input('비밀번호를 입력하세요 ')\n",
    "    if len(pw1) < 6:\n",
    "        raise TooShort\n",
    "    elif len(pw1) > 10:\n",
    "        raise TooLong\n",
    "\n",
    "\n",
    "    pw2 = input('비밀번호를 한번 더 입력하세요')\n",
    "    if pw1 != pw2:\n",
    "        raise IndexError\n",
    "\n",
    "except ValueError as v:\n",
    "    print(v, '숫자만 입력하세요')\n",
    "except IndexError as i:\n",
    "    print(i, '다른 비밀번호')\n",
    "\n",
    "if pw1 == pw2:\n",
    "    print('설정 완료')\n",
    "    "
   ]
  },
  {
   "cell_type": "code",
   "execution_count": 237,
   "id": "6f7c91b8",
   "metadata": {},
   "outputs": [
    {
     "name": "stdout",
     "output_type": "stream",
     "text": [
      "<re.Match object; span=(0, 1), match='2'>\n"
     ]
    },
    {
     "name": "stderr",
     "output_type": "stream",
     "text": [
      "<>:3: SyntaxWarning: invalid escape sequence '\\d'\n",
      "<>:3: SyntaxWarning: invalid escape sequence '\\d'\n",
      "/var/folders/4v/gys4dw4j7m7fg5cl_whrtvbw0000gn/T/ipykernel_10615/3583460032.py:3: SyntaxWarning: invalid escape sequence '\\d'\n",
      "  p = re.compile('\\d+')\n"
     ]
    }
   ],
   "source": [
    "import re\n",
    "\n",
    "p = re.compile('\\d+')\n",
    "\n",
    "p.match('123')\n",
    "print(p.match('2adf3'))"
   ]
  },
  {
   "cell_type": "code",
   "execution_count": 248,
   "id": "56ca44a8",
   "metadata": {},
   "outputs": [
    {
     "name": "stdout",
     "output_type": "stream",
     "text": [
      "<re.Match object; span=(0, 19), match='diow39f32@ndiwo.com'>\n"
     ]
    }
   ],
   "source": [
    "mail = '[a-zA-Z0-9]+@[a-zA-Z0-9]+[.](net|com)$'\n",
    "p = re.compile(mail)\n",
    "\n",
    "print(p.match('diow39f32@ndiwo.com'))"
   ]
  },
  {
   "cell_type": "code",
   "execution_count": 265,
   "id": "a223b7f5",
   "metadata": {},
   "outputs": [
    {
     "name": "stdout",
     "output_type": "stream",
     "text": [
      "com\n"
     ]
    }
   ],
   "source": [
    "em = re.compile('(http://|https://)(w{3})[.]([0-9a-zA-Z]+)[.](com|net|co[.]kr)$')\n",
    "print(em.match('http://www.naver.com').group(4))"
   ]
  },
  {
   "cell_type": "code",
   "execution_count": 274,
   "id": "397cf684",
   "metadata": {},
   "outputs": [
    {
     "data": {
      "text/plain": [
       "'hello python'"
      ]
     },
     "execution_count": 274,
     "metadata": {},
     "output_type": "execute_result"
    }
   ],
   "source": [
    "py = '<p>hello python</p>'\n",
    "\n",
    "p = re.compile('</?[a-zA-Z]>')\n",
    "p.sub('', py)"
   ]
  },
  {
   "cell_type": "code",
   "execution_count": 292,
   "id": "afc635ad",
   "metadata": {},
   "outputs": [
    {
     "name": "stdout",
     "output_type": "stream",
     "text": [
      "None\n"
     ]
    }
   ],
   "source": [
    "bibun = '[0-9][a-z][A-Z][~!@#$%^&*()]{6,20}$'\n",
    "p=re.compile(bibun)\n",
    "print(p.match('4920dzeAV#'))"
   ]
  },
  {
   "cell_type": "code",
   "execution_count": 307,
   "id": "90ee3c7d",
   "metadata": {},
   "outputs": [
    {
     "name": "stdout",
     "output_type": "stream",
     "text": [
      "iihopeeyouudidntttr{nsl{teeitt|yyh{ndddth{tsswh{ttcomputerss{reeforrrdoinggittinn|yyh{nddissinefficientt{nddth{ttsswhyythisstexttisssoolongggusinggstringgm{ketr{nssssissrecommendedddnoww{pplyyonntheeurll"
     ]
    }
   ],
   "source": [
    "text = \"g fmnc wms bgblr rpylqjyrc gr zw fylb. rfyrq ufyr amknsrcpq ypc dmp. bmgle gr gl zw fylb gq glcddgagclr ylb rfyr'q ufw rfgq rcvr gq qm jmle. sqgle qrpgle.kyicrpylq() gq pcamkkclbcb. lmu ynnjw ml rfc spj.\"\n",
    "\n",
    "for i in text:\n",
    "    code = ord(i)\n",
    "\n",
    "    if code >=97 and code <=122:\n",
    "        fin = code+2\n",
    "    "
   ]
  }
 ],
 "metadata": {
  "kernelspec": {
   "display_name": "Python 3 (ipykernel)",
   "language": "python",
   "name": "python3"
  },
  "language_info": {
   "codemirror_mode": {
    "name": "ipython",
    "version": 3
   },
   "file_extension": ".py",
   "mimetype": "text/x-python",
   "name": "python",
   "nbconvert_exporter": "python",
   "pygments_lexer": "ipython3",
   "version": "3.12.1"
  }
 },
 "nbformat": 4,
 "nbformat_minor": 5
}
